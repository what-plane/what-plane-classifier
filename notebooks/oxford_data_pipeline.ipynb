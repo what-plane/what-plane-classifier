{
 "cells": [
  {
   "cell_type": "code",
   "execution_count": 1,
   "metadata": {},
   "outputs": [],
   "source": [
    "from __future__ import print_function, division\r\n",
    "import os\r\n",
    "import copy\r\n",
    "import json\r\n",
    "import time\r\n",
    "import numpy as np\r\n",
    "import matplotlib.pyplot as plt\r\n",
    "import seaborn as sns\r\n",
    "from PIL import Image\r\n",
    "\r\n",
    "import torch\r\n",
    "import torch.nn as nn\r\n",
    "import torch.nn.functional as F\r\n",
    "import torch.optim as optim\r\n",
    "import torchvision\r\n",
    "from torch.optim import lr_scheduler\r\n",
    "from torchvision import datasets, models, transforms\r\n",
    "\r\n",
    "plt.ion()\r\n"
   ]
  },
  {
   "cell_type": "code",
   "execution_count": 2,
   "metadata": {},
   "outputs": [],
   "source": [
    "data_dir = \"../data/raw/data/\""
   ]
  },
  {
   "cell_type": "code",
   "execution_count": 3,
   "metadata": {},
   "outputs": [],
   "source": [
    "class_dict = {}\r\n",
    "with open(data_dir+'all_family.txt','r') as f:\r\n",
    "    for line in f:\r\n",
    "        key = line.split()[0]\r\n",
    "        value = \" \".join(line.split()[1:])\r\n",
    "        class_dict[int(key)] = value\r\n",
    "\r\n",
    "    \r\n"
   ]
  },
  {
   "cell_type": "code",
   "execution_count": 4,
   "metadata": {},
   "outputs": [],
   "source": [
    "with open('ox_class_mapping.json','w') as f:\r\n",
    "    json.dump(class_dict, f)"
   ]
  },
  {
   "cell_type": "code",
   "execution_count": 5,
   "metadata": {},
   "outputs": [],
   "source": [
    "test_images = []\r\n",
    "train_images = []\r\n",
    "val_images = []\r\n",
    "\r\n",
    "with open(data_dir+'images_family_test.txt', 'r') as f:\r\n",
    "    for line in f:\r\n",
    "        test_images.append(line.split()[0]+\".jpg\")\r\n",
    "\r\n",
    "with open(data_dir+'images_family_train.txt', 'r') as f:\r\n",
    "    for line in f:\r\n",
    "        train_images.append(line.split()[0]+\".jpg\")\r\n",
    "        \r\n",
    "with open(data_dir+'images_family_trainval.txt', 'r') as f:\r\n",
    "    for line in f:\r\n",
    "        val_images.append(line.split()[0]+\".jpg\")"
   ]
  },
  {
   "cell_type": "code",
   "execution_count": 6,
   "metadata": {},
   "outputs": [],
   "source": [
    "import shutil\r\n",
    "\r\n",
    "source = \"../data/raw/data/images/\"\r\n",
    "train = \"../data/raw/data/images/train/\"\r\n",
    "test = \"../data/raw/data/images/test/\"\r\n",
    "valid = \"../data/raw/data/images/valid/\"\r\n",
    "\r\n",
    "files = os.listdir(source)"
   ]
  },
  {
   "cell_type": "code",
   "execution_count": 7,
   "metadata": {},
   "outputs": [],
   "source": [
    "for f in files:\r\n",
    "    if f in test_images:\r\n",
    "        shutil.move(source+f, test)\r\n",
    "    elif f in train_images:\r\n",
    "        shutil.move(source+f, train)\r\n",
    "    elif f in val_images:\r\n",
    "        shutil.move(source+f, valid)"
   ]
  }
 ],
 "metadata": {
  "kernelspec": {
   "display_name": "Python 3",
   "name": "python3"
  },
  "language_info": {
   "codemirror_mode": {
    "name": "ipython",
    "version": 3
   },
   "file_extension": ".py",
   "mimetype": "text/x-python",
   "name": "python",
   "nbconvert_exporter": "python",
   "pygments_lexer": "ipython3",
   "version": "3.8.3"
  },
  "orig_nbformat": 2
 },
 "nbformat": 4,
 "nbformat_minor": 2
}