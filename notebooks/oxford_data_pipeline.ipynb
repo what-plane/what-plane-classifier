{
 "cells": [
  {
   "cell_type": "code",
   "execution_count": 1,
   "metadata": {},
   "outputs": [],
   "source": [
    "from __future__ import print_function, division\r\n",
    "import os\r\n",
    "import copy\r\n",
    "import json\r\n",
    "import time\r\n",
    "import numpy as np\r\n",
    "import matplotlib.pyplot as plt\r\n",
    "import seaborn as sns\r\n",
    "from PIL import Image\r\n",
    "\r\n",
    "import torch\r\n",
    "import torch.nn as nn\r\n",
    "import torch.nn.functional as F\r\n",
    "import torch.optim as optim\r\n",
    "import torchvision\r\n",
    "from torch.optim import lr_scheduler\r\n",
    "from torchvision import datasets, models, transforms\r\n",
    "\r\n",
    "plt.ion()\r\n"
   ]
  },
  {
   "cell_type": "code",
   "execution_count": 2,
   "metadata": {},
   "outputs": [],
   "source": [
    "data_dir = \"../data/raw/data/\""
   ]
  },
  {
   "cell_type": "code",
   "execution_count": 3,
   "metadata": {},
   "outputs": [],
   "source": [
    "class_dict = {}\r\n",
    "with open(data_dir+'all_family.txt','r') as f:\r\n",
    "    for line in f:\r\n",
    "        key = line.split()[0]+\".jpg\"\r\n",
    "        value = \" \".join(line.split()[1:])\r\n",
    "        class_dict[key] = value\r\n",
    "\r\n",
    "    \r\n"
   ]
  },
  {
   "cell_type": "code",
   "execution_count": 4,
   "metadata": {},
   "outputs": [],
   "source": [
    "with open('ox_class_mapping.json','w') as f:\r\n",
    "    json.dump(class_dict, f)"
   ]
  },
  {
   "cell_type": "code",
   "execution_count": 5,
   "metadata": {},
   "outputs": [],
   "source": [
    "test_images = []\r\n",
    "train_images = []\r\n",
    "val_images = []\r\n",
    "\r\n",
    "with open(data_dir+'images_family_test.txt', 'r') as f:\r\n",
    "    for line in f:\r\n",
    "        test_images.append(line.split()[0]+\".jpg\")\r\n",
    "\r\n",
    "with open(data_dir+'images_family_train.txt', 'r') as f:\r\n",
    "    for line in f:\r\n",
    "        train_images.append(line.split()[0]+\".jpg\")\r\n",
    "        \r\n",
    "with open(data_dir+'images_family_trainval.txt', 'r') as f:\r\n",
    "    for line in f:\r\n",
    "        val_images.append(line.split()[0]+\".jpg\")"
   ]
  },
  {
   "cell_type": "code",
   "execution_count": 6,
   "metadata": {},
   "outputs": [],
   "source": [
    "import shutil\r\n",
    "\r\n",
    "source = \"../data/raw/data/images/\"\r\n",
    "train = \"../data/raw/data/images/train/\"\r\n",
    "test = \"../data/raw/data/images/test/\"\r\n",
    "valid = \"../data/raw/data/images/valid/\"\r\n",
    "\r\n",
    "files = os.listdir(source)"
   ]
  },
  {
   "cell_type": "code",
   "execution_count": 7,
   "metadata": {},
   "outputs": [],
   "source": [
    "for f in files:\r\n",
    "    if f in test_images:\r\n",
    "        shutil.move(source+f, test)\r\n",
    "    elif f in train_images:\r\n",
    "        shutil.move(source+f, train)\r\n",
    "    elif f in val_images:\r\n",
    "        shutil.move(source+f, valid)"
   ]
  },
  {
   "cell_type": "code",
   "execution_count": 8,
   "metadata": {},
   "outputs": [],
   "source": [
    "families = []\r\n",
    "\r\n",
    "folders = [train, test, valid]\r\n",
    "\r\n",
    "\r\n",
    "def get_family_names():\r\n",
    "    with open(data_dir+'families.txt', 'r') as f:\r\n",
    "        for line in f:\r\n",
    "            families.append(line.strip())\r\n",
    "\r\n",
    "get_family_names()"
   ]
  },
  {
   "cell_type": "code",
   "execution_count": 9,
   "metadata": {},
   "outputs": [],
   "source": [
    "family_dict = {}\r\n",
    "for idx, v in enumerate(families, 1):\r\n",
    "    family_dict[idx]=v\r\n",
    "\r\n",
    "with open('ox_folder_mapping.json','w') as f:\r\n",
    "    json.dump(family_dict, f)"
   ]
  },
  {
   "cell_type": "code",
   "execution_count": 10,
   "metadata": {},
   "outputs": [
    {
     "data": {
      "text/plain": "'c:\\\\Users\\\\Ashrith\\\\Documents\\\\Development\\\\py\\\\what-plane\\\\data\\\\raw\\\\data\\\\images\\\\train'"
     },
     "execution_count": 10,
     "metadata": {},
     "output_type": "execute_result"
    }
   ],
   "source": [
    "os.path.abspath(train)"
   ]
  },
  {
   "cell_type": "code",
   "execution_count": 11,
   "metadata": {},
   "outputs": [],
   "source": [
    "def create_family_folders():\r\n",
    "    for folder in folders:\r\n",
    "        for family in family_dict.keys():\r\n",
    "            os.mkdir(os.path.join(os.path.abspath(folder), str(family)))\r\n",
    "\r\n"
   ]
  },
  {
   "cell_type": "code",
   "execution_count": 12,
   "metadata": {},
   "outputs": [
    {
     "data": {
      "text/plain": "['A300',\n 'A310',\n 'A320',\n 'A330',\n 'A340',\n 'A380',\n 'ATR-42',\n 'ATR-72',\n 'Boeing 707',\n 'Boeing 717',\n 'Boeing 727',\n 'Boeing 737',\n 'Boeing 747',\n 'Boeing 757',\n 'Boeing 767',\n 'Boeing 777',\n 'CRJ-200',\n 'CRJ-700',\n 'Dash 8',\n 'Embraer E-Jet',\n 'Embraer ERJ 145']"
     },
     "execution_count": 12,
     "metadata": {},
     "output_type": "execute_result"
    }
   ],
   "source": [
    "list(family_dict.values())"
   ]
  },
  {
   "cell_type": "code",
   "execution_count": 13,
   "metadata": {},
   "outputs": [],
   "source": [
    "# for folder in folders:\r\n",
    "#     files = os.listdir(folder)\r\n",
    "#     for file in files:\r\n",
    "#         if file in class_dict.keys():\r\n",
    "#             family = class_dict[file]\r\n",
    "#             for k,v in family_dict.items():\r\n",
    "#                 if family==v:\r\n",
    "#                     shutil.move(folder+file, folder+str(k))\r\n",
    "\r\n"
   ]
  },
  {
   "cell_type": "code",
   "execution_count": 14,
   "metadata": {},
   "outputs": [],
   "source": [
    "# for folder in folders:\r\n",
    "#     files = os.listdir(folder)\r\n",
    "#     for file in files:\r\n",
    "#         if file.endswith('.jpg'):\r\n",
    "#             os.remove(folder+file)\r\n",
    "\r\n",
    "\r\n"
   ]
  }
 ],
 "metadata": {
  "kernelspec": {
   "display_name": "Python 3",
   "name": "python3"
  },
  "language_info": {
   "codemirror_mode": {
    "name": "ipython",
    "version": 3
   },
   "file_extension": ".py",
   "mimetype": "text/x-python",
   "name": "python",
   "nbconvert_exporter": "python",
   "pygments_lexer": "ipython3",
   "version": "3.8.3-final"
  },
  "orig_nbformat": 2
 },
 "nbformat": 4,
 "nbformat_minor": 2
}