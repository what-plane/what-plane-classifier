{
 "cells": [
  {
   "cell_type": "code",
   "execution_count": null,
   "metadata": {},
   "outputs": [],
   "source": [
    "import os\r\n",
    "import copy\r\n",
    "import random\r\n",
    "import cv2\r\n",
    "import json\r\n",
    "import time\r\n",
    "import numpy as np\r\n",
    "import matplotlib.pyplot as plt\r\n",
    "import seaborn as sns\r\n",
    "from collections import OrderedDict\r\n",
    "from PIL import Image\r\n",
    "from glob import glob\r\n",
    "\r\n",
    "\r\n",
    "import torch\r\n",
    "import torch.nn as nn\r\n",
    "import torch.nn.functional as F\r\n",
    "import torch.optim as optim\r\n",
    "import torchvision\r\n",
    "from torch.optim import lr_scheduler\r\n",
    "from torchvision import datasets, models, transforms\r\n",
    "from torch.utils.tensorboard import SummaryWriter\r\n"
   ]
  },
  {
   "cell_type": "code",
   "execution_count": null,
   "metadata": {},
   "outputs": [],
   "source": [
    "data_dir = \"../data/raw/airlinersnet/\""
   ]
  },
  {
   "cell_type": "code",
   "execution_count": null,
   "metadata": {},
   "outputs": [],
   "source": [
    "def get_optimizer(model, lr):\r\n",
    "    return torch.optim.SGD(model.parameters(), lr=0.001, momentum=0.9)\r\n",
    "\r\n",
    "\r\n",
    "def get_loss_function():\r\n",
    "    return nn.NLLLoss()"
   ]
  },
  {
   "cell_type": "code",
   "execution_count": null,
   "metadata": {},
   "outputs": [],
   "source": [
    "def load_data(data_dir):\r\n",
    "    data_dir = data_dir\r\n",
    "    train_dir = data_dir + 'train'\r\n",
    "    test_dir = data_dir + 'test'\r\n",
    "    valid_dir = data_dir + 'valid'\r\n",
    "\r\n",
    "    data_transforms = {\r\n",
    "        'train': transforms.Compose([\r\n",
    "            transforms.Resize(240),\r\n",
    "            transforms.RandomResizedCrop(224),\r\n",
    "            transforms.RandomHorizontalFlip(),\r\n",
    "            transforms.ToTensor(),\r\n",
    "            transforms.Normalize([0.485, 0.456, 0.406], [0.229, 0.224, 0.225])\r\n",
    "        ]),\r\n",
    "        'valid': transforms.Compose([\r\n",
    "            transforms.Resize(256),\r\n",
    "            transforms.CenterCrop(224),\r\n",
    "            transforms.ToTensor(),\r\n",
    "            transforms.Normalize([0.485, 0.456, 0.406 ], [0.229, 0.224, 0.225])\r\n",
    "        ]),\r\n",
    "        'test': transforms.Compose([\r\n",
    "            transforms.Resize(256),\r\n",
    "            transforms.CenterCrop(224),\r\n",
    "            transforms.ToTensor(),\r\n",
    "            transforms.Normalize([0.485, 0.456, 0.406], [0.229, 0.224, 0.225])\r\n",
    "        ])\r\n",
    "    }\r\n",
    "\r\n",
    "    image_datasets = {x: datasets.ImageFolder(os.path.join(data_dir, x), data_transforms[x]) for x in ['train', 'valid', 'test']}\r\n",
    "\r\n",
    "    dataloaders = {x: torch.utils.data.DataLoader(image_datasets[x], batch_size=10, shuffle=True, num_workers=4) for x in ['train', 'valid', 'test']}\r\n",
    "\r\n",
    "    dataset_sizes = {x: len(image_datasets[x]) for x in ['train', 'test', 'valid']}\r\n",
    "\r\n",
    "    class_names = image_datasets['train'].classes\r\n",
    "    print(dataloaders)\r\n",
    "    print(dataset_sizes)\r\n",
    "    print(image_datasets)\r\n",
    "    return dataloaders, dataset_sizes, image_datasets"
   ]
  },
  {
   "cell_type": "code",
   "execution_count": null,
   "metadata": {},
   "outputs": [],
   "source": [
    "def initialize_model(model_name, dropout,num_classes, hidden_layer, lr, device):\r\n",
    "\r\n",
    "    if model_name == \"densenet\":\r\n",
    "        model = models.densenet121(pretrained=True)\r\n",
    "        input_size = 1024\r\n",
    "    \r\n",
    "    elif model_name == \"vgg\":\r\n",
    "        model = models.vgg11_bn(pretrained=True)\r\n",
    "        input_size = 25088\r\n",
    "    \r\n",
    "    elif model_name == \"alexnet\":\r\n",
    "        model = models.alexnet(pretrained = True)\r\n",
    "        input_size = 9216\r\n",
    "    \r\n",
    "    else:\r\n",
    "        print('Invalid model name')\r\n",
    "    \r\n",
    "    for param in model.parameters():\r\n",
    "        param.requires_grad = False\r\n",
    "\r\n",
    "    classifier = nn.Sequential(OrderedDict([\r\n",
    "        ('fc1', nn.Linear(input_size, hidden_layer)),\r\n",
    "        ('relu', nn.ReLU()),\r\n",
    "        ('dropout', nn.Dropout(dropout)),\r\n",
    "        ('fc2', nn.Linear(hidden_layer, num_classes)),\r\n",
    "        ('output', nn.LogSoftmax(dim=1))\r\n",
    "    ]))\r\n",
    "\r\n",
    "    model.classifier = classifier\r\n",
    "    criterion = nn.NLLLoss()\r\n",
    "    optimizer = optim.Adam(model.classifier.parameters(), lr)\r\n",
    "    exp_lr_scheduler = lr_scheduler.StepLR(optimizer, step_size = 5, gamma = 0.1)\r\n",
    "    model.to(device)\r\n",
    "\r\n",
    "    return model"
   ]
  },
  {
   "cell_type": "code",
   "execution_count": null,
   "metadata": {},
   "outputs": [],
   "source": [
    "def train_model(model, dataloaders,dataset_sizes, criterion, optimizer, scheduler, num_epochs, device):\r\n",
    "    since = time.time()\r\n",
    "    writer = SummaryWriter()\r\n",
    "\r\n",
    "    best_model_wts = copy.deepcopy(model.state_dict())\r\n",
    "    best_acc = 0.0\r\n",
    "\r\n",
    "    for epoch in range(num_epochs):\r\n",
    "        print('Epoch {}/{}'.format(epoch, num_epochs -1))\r\n",
    "        print('-' * 10)\r\n",
    "\r\n",
    "        # Train and validation phase for each of the epoch\r\n",
    "        for phase in ['train', 'valid']:\r\n",
    "            if phase == 'train':\r\n",
    "                model.train()\r\n",
    "            else:\r\n",
    "                model.eval()\r\n",
    "            \r\n",
    "            running_loss = 0.0\r\n",
    "            running_corrects = 0\r\n",
    "\r\n",
    "            for inputs, labels in dataloaders[phase]:\r\n",
    "                inputs = inputs.to(device)\r\n",
    "                labels = labels.to(device)\r\n",
    "\r\n",
    "                optimizer.zero_grad() # zero parameter gradients\r\n",
    "\r\n",
    "                # Forward feed\r\n",
    "                with torch.set_grad_enabled(phase=='train'):\r\n",
    "                    outputs = model(inputs)\r\n",
    "                    _, preds = torch.max(outputs, 1)\r\n",
    "                    loss = criterion(outputs, labels)\r\n",
    "\r\n",
    "                    # Backward and optimize only while training\r\n",
    "                    if phase == 'train':\r\n",
    "                        loss.backward()\r\n",
    "                        optimizer.step()\r\n",
    "                    \r\n",
    "                # stats\r\n",
    "                running_loss += loss.item() * inputs.size(0)\r\n",
    "                running_corrects += torch.sum(preds == labels.data)\r\n",
    "            if phase == 'train':\r\n",
    "                scheduler.step\r\n",
    "\r\n",
    "            epoch_loss = running_loss / dataset_sizes[phase]\r\n",
    "            epoch_acc = running_corrects.double() / dataset_sizes[phase]\r\n",
    "            print('{} Loss:{:.4f} Accuracy:{:.4f}'.format(phase, epoch_loss, epoch_acc))\r\n",
    "            writer.add_scalar(\"Train/Loss\", epoch_loss, epoch)\r\n",
    "            writer.add_scalar(\"Train/Accuracy\", epoch_acc, epoch)\r\n",
    "\r\n",
    "            # deep copy the model\r\n",
    "            if phase == 'valid' and epoch_acc > best_acc:\r\n",
    "                best_acc = epoch_acc\r\n",
    "                best_model_wts = copy.deepcopy(model.state_dict())\r\n",
    "\r\n",
    "        print()\r\n",
    "    \r\n",
    "    time_elapsed = time.time() - since\r\n",
    "    print('Training complete in {:.0f}m and {:.0f}s'.format(time_elapsed // 60, time_elapsed % 60))\r\n",
    "    print('Best validation accuracy: {:.4f}'.format(best_acc))\r\n",
    "\r\n",
    "    # load best model weights\r\n",
    "    model.load_state_dict(best_model_wts)\r\n",
    "    return model"
   ]
  },
  {
   "cell_type": "code",
   "execution_count": null,
   "metadata": {},
   "outputs": [],
   "source": [
    "\r\n",
    "def save_checkpoint(checkpoint_path, arch, image_datasets, model, optimizer,num_epochs, lr, dropout, hidden_layer):\r\n",
    "    if checkpoint_path is '':\r\n",
    "        save_path = f'./checkpoint-{arch}.pth'\r\n",
    "    else:\r\n",
    "        save_path = save_dir + f'/checkpoint-{arch}.pth'\r\n",
    "        \r\n",
    "    model.class_to_idx = image_datasets['train'].class_to_idx\r\n",
    "    model.cpu()\r\n",
    "    torch.save({\r\n",
    "        'model':model,\r\n",
    "        'hidden_layer':hidden_layer,\r\n",
    "        'lr':lr,\r\n",
    "        'num_epochs':num_epochs,\r\n",
    "        'dropout':dropout,\r\n",
    "        'model_state_dict': model.state_dict(),\r\n",
    "        'optimizer_state_dict': optimizer.state_dict(),\r\n",
    "        'class_to_idx':model.class_to_idx}, save_path)\r\n",
    "\r\n",
    "def load_checkpoint(checkpoint_path):\r\n",
    "    # Load the saved file\r\n",
    "    checkpoint = torch.load(checkpoint_path)\r\n",
    "    model = checkpoint['model']\r\n",
    "    print(model)    \r\n",
    "    # Load stuff from checkpoint\r\n",
    "    model.class_to_idx = checkpoint['class_to_idx']\r\n",
    "    model.load_state_dict(checkpoint['model_state_dict'])\r\n",
    "    \r\n",
    "    return model\r\n"
   ]
  },
  {
   "cell_type": "code",
   "execution_count": null,
   "metadata": {},
   "outputs": [],
   "source": [
    "def process_image(image_path):\r\n",
    "    ''' Scales, crops, and normalizes a PIL image for a PyTorch model,\r\n",
    "        returns an Numpy array\r\n",
    "    '''\r\n",
    "    img_pil = Image.open(image_path)\r\n",
    "   \r\n",
    "    adjustments = transforms.Compose([\r\n",
    "        transforms.Resize(256),\r\n",
    "        transforms.CenterCrop(224),\r\n",
    "        transforms.ToTensor(),\r\n",
    "        transforms.Normalize(mean=[0.485, 0.456, 0.406], std=[0.229, 0.224, 0.225])\r\n",
    "    ])\r\n",
    "    \r\n",
    "    img_tensor = adjustments(img_pil)\r\n",
    "    \r\n",
    "    return img_tensor\r\n",
    "\r\n",
    "def predict(image_path, model, topk):\r\n",
    "    image = process_image(image_path)\r\n",
    "\r\n",
    "    image = image.unsqueeze_(0)\r\n",
    "    image = image.float()\r\n",
    "\r\n",
    "    with torch.no_grad():\r\n",
    "        output = model.forward(image)\r\n",
    "    \r\n",
    "    output_prob = torch.exp(output)\r\n",
    "\r\n",
    "    probs, indeces = output_prob.topk(topk)\r\n",
    "    probs = probs.numpy()\r\n",
    "    indeces = indeces.numpy()\r\n",
    "\r\n",
    "    probs = probs.tolist()[0]\r\n",
    "    indeces = indeces.tolist()[0]\r\n",
    "\r\n",
    "    mapping = {val:key for key, val in\r\n",
    "                model.class_to_idx.items()\r\n",
    "                }\r\n",
    "    classes = [mapping[item] for item in indeces]\r\n",
    "    classes = np.array(classes)\r\n",
    "    return probs, classes"
   ]
  },
  {
   "cell_type": "code",
   "execution_count": null,
   "metadata": {},
   "outputs": [],
   "source": [
    "model_name = 'vgg'\r\n",
    "num_classes = len(image_datasets['train'])\r\n",
    "batch_size = 10\r\n",
    "num_epochs = 50\r\n",
    "feature_extract = True"
   ]
  },
  {
   "cell_type": "code",
   "execution_count": null,
   "metadata": {},
   "outputs": [],
   "source": [
    "dataloaders, dataset_sizes, image_datasets = load_data(data_dir)"
   ]
  },
  {
   "cell_type": "code",
   "execution_count": null,
   "metadata": {},
   "outputs": [],
   "source": [
    "dropout = 0.2\r\n",
    "hidden_layer = 1024\r\n",
    "lr = 0.001\r\n",
    "device=torch.device('cuda:0')\r\n",
    "\r\n",
    "model = initialize_model(model_name, dropout,num_classes, hidden_layer, lr, device)\r\n",
    "\r\n"
   ]
  },
  {
   "cell_type": "code",
   "execution_count": null,
   "metadata": {},
   "outputs": [],
   "source": [
    "criterion = get_loss_function()\r\n",
    "optimizer = get_optimizer(model, lr)"
   ]
  },
  {
   "cell_type": "code",
   "execution_count": null,
   "metadata": {},
   "outputs": [],
   "source": [
    "exp_lr_scheduler = lr_scheduler.StepLR(optimizer, step_size = 5, gamma = 0.1)"
   ]
  },
  {
   "cell_type": "code",
   "execution_count": null,
   "metadata": {},
   "outputs": [],
   "source": [
    "model_ft = train_model(model, dataloaders,dataset_sizes, criterion, optimizer, exp_lr_scheduler, num_epochs, device)"
   ]
  },
  {
   "cell_type": "code",
   "execution_count": null,
   "metadata": {},
   "outputs": [],
   "source": [
    "checkpoint_model = save_checkpoint(\"\", model_name, image_datasets, model, optimizer,num_epochs, lr, dropout, hidden_layer)"
   ]
  },
  {
   "cell_type": "code",
   "execution_count": null,
   "metadata": {},
   "outputs": [],
   "source": [
    "model = load_checkpoint('checkpoint-vgg.pth')"
   ]
  },
  {
   "cell_type": "code",
   "execution_count": null,
   "metadata": {},
   "outputs": [],
   "source": [
    "with open(\"../src/data/airlinersnet_mapping.json\",\"r\") as f:\r\n",
    "    cat_to_name = json.load(f)"
   ]
  },
  {
   "cell_type": "code",
   "execution_count": null,
   "metadata": {},
   "outputs": [],
   "source": [
    "def plot_image(img_path):\r\n",
    "    img = cv2.imread(img_path)\r\n",
    "    rgb = cv2.cvtColor(img, cv2.COLOR_BGR2RGB)\r\n",
    "    plt.imshow(rgb)\r\n",
    "    plt.axis('off')\r\n",
    "    plt.show()\r\n",
    "\r\n",
    "def caption_images(img_path, top_k):\r\n",
    "    probs,classes=predict(img_path, model, top_k)\r\n",
    "    class_names = [cat_to_name[x] for x in classes]\r\n",
    "    print(f\"Top {top_k} predictions: {list(zip(class_names, probs))}\")\r\n",
    "    plot_image(img_path)"
   ]
  },
  {
   "cell_type": "code",
   "execution_count": null,
   "metadata": {},
   "outputs": [],
   "source": [
    "extra_test_img_dir = glob(\"../data/processed/test_images/*\")"
   ]
  },
  {
   "cell_type": "code",
   "execution_count": null,
   "metadata": {},
   "outputs": [],
   "source": [
    "for i in random.sample(list(extra_test_img_dir),3):\r\n",
    "    caption_images(i, 1)"
   ]
  }
 ],
 "metadata": {
  "kernelspec": {
   "display_name": "Python 3",
   "name": "python3"
  },
  "language_info": {
   "codemirror_mode": {
    "name": "ipython",
    "version": 3
   },
   "file_extension": ".py",
   "mimetype": "text/x-python",
   "name": "python",
   "nbconvert_exporter": "python",
   "pygments_lexer": "ipython3",
   "version": "3.8.3-final"
  },
  "orig_nbformat": 2
 },
 "nbformat": 4,
 "nbformat_minor": 2
}